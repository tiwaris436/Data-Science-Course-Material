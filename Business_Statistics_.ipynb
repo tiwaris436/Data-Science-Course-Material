{
  "nbformat": 4,
  "nbformat_minor": 0,
  "metadata": {
    "colab": {
      "name": "Business Statistics.ipynb",
      "provenance": [],
      "authorship_tag": "ABX9TyNj8vVLYyjnsZB/kCUFaD8I",
      "include_colab_link": true
    },
    "kernelspec": {
      "name": "python3",
      "display_name": "Python 3"
    },
    "language_info": {
      "name": "python"
    }
  },
  "cells": [
    {
      "cell_type": "markdown",
      "metadata": {
        "id": "view-in-github",
        "colab_type": "text"
      },
      "source": [
        "<a href=\"https://colab.research.google.com/github/tiwaris436/Amazon-Rekognition/blob/master/Business_Statistics_.ipynb\" target=\"_parent\"><img src=\"https://colab.research.google.com/assets/colab-badge.svg\" alt=\"Open In Colab\"/></a>"
      ]
    },
    {
      "cell_type": "code",
      "execution_count": 1,
      "metadata": {
        "id": "aCY3fiW_ucuS",
        "colab": {
          "base_uri": "https://localhost:8080/"
        },
        "outputId": "39ae2cdb-48a8-499f-9bbf-e6ca5b78a291"
      },
      "outputs": [
        {
          "output_type": "stream",
          "name": "stderr",
          "text": [
            "/usr/local/lib/python3.7/dist-packages/statsmodels/tools/_testing.py:19: FutureWarning: pandas.util.testing is deprecated. Use the functions in the public API at pandas.testing instead.\n",
            "  import pandas.util.testing as tm\n"
          ]
        }
      ],
      "source": [
        "import matplotlib.pyplot as plt\n",
        "import numpy as np\n",
        "import statsmodels.api as sm\n",
        "import pylab as py\n",
        "import scipy.stats as stats"
      ]
    },
    {
      "cell_type": "markdown",
      "source": [
        "### QQ-Plot\n",
        "\n",
        "We plot the theoretical quantiles or basically known as the standard normal variate (a normal distribution with mean=0 and standard deviation=1)on the x-axis and the ordered values for the random variable which we want to find whether it is Gaussian distributed or not, on the y-axis. Which gives a very beautiful and a smooth straight line like structure from each point plotted on the graph.\n",
        "\n",
        "https://towardsdatascience.com/q-q-plots-explained-5aa8495426c0\n"
      ],
      "metadata": {
        "id": "4dbA-YjickuR"
      }
    },
    {
      "cell_type": "code",
      "source": [
        "# Random data points generated\n",
        "\n",
        "measurements = np.random.normal(loc = 20, scale = 5, size= 20)   \n",
        "stats.probplot(measurements, plot=py)\n",
        "py.show()\n"
      ],
      "metadata": {
        "colab": {
          "base_uri": "https://localhost:8080/",
          "height": 295
        },
        "id": "0SGLhLv5bqjB",
        "outputId": "0b73f2c6-2d15-44a0-a74b-e71c03c6c9f9"
      },
      "execution_count": 2,
      "outputs": [
        {
          "output_type": "display_data",
          "data": {
            "text/plain": [
              "<Figure size 432x288 with 1 Axes>"
            ],
            "image/png": "[encoded data removed]"
          },
          "metadata": {
            "needs_background": "light"
          }
        }
      ]
    },
    {
      "cell_type": "code",
      "source": [
        "measurements"
      ],
      "metadata": {
        "colab": {
          "base_uri": "https://localhost:8080/"
        },
        "id": "_65LHxt_mZPB",
        "outputId": "7bc24edd-1b48-45b1-aa6f-bd17a13c16eb"
      },
      "execution_count": 20,
      "outputs": [
        {
          "output_type": "execute_result",
          "data": {
            "text/plain": [
              "array([20.39539587, 30.56690259, 18.22901624, 17.31079867, 24.27687336,\n",
              "       12.79796405, 20.92230882, 17.00292038, 23.95311166, 15.42763727,\n",
              "       16.2063819 , 22.98025182, 16.19490044, 25.49095062, 20.52189954,\n",
              "       22.06102996, 23.97803074, 17.13012143, 20.76727805, 23.64399179])"
            ]
          },
          "metadata": {},
          "execution_count": 20
        }
      ]
    },
    {
      "cell_type": "markdown",
      "source": [
        "### Box Plot"
      ],
      "metadata": {
        "id": "TFk98ggsdF1F"
      }
    },
    {
      "cell_type": "code",
      "source": [
        "x = [1,2,15,3,6,17,8,16,8,3,10,12,16,12,9]\n",
        "fig = plt.figure(figsize =(10, 7))\n",
        " \n",
        "# Creating plot\n",
        "plt.boxplot(x)\n",
        " \n",
        "# show plot\n",
        "plt.show()"
      ],
      "metadata": {
        "colab": {
          "base_uri": "https://localhost:8080/",
          "height": 428
        },
        "id": "keT4WmAuuzNp",
        "outputId": "61178a5f-b702-4b0d-e1f4-0b17dca52465"
      },
      "execution_count": 9,
      "outputs": [
        {
          "output_type": "display_data",
          "data": {
            "text/plain": [
              "<Figure size 720x504 with 1 Axes>"
            ],
            "image/png": "[encoded data removed]"
          },
          "metadata": {
            "needs_background": "light"
          }
        }
      ]
    },
    {
      "cell_type": "code",
      "source": [
        "np.min(x)"
      ],
      "metadata": {
        "colab": {
          "base_uri": "https://localhost:8080/"
        },
        "id": "c088TPVGvAo1",
        "outputId": "deebcbe9-261b-4ab4-bd16-fd8f8f50759c"
      },
      "execution_count": 4,
      "outputs": [
        {
          "output_type": "execute_result",
          "data": {
            "text/plain": [
              "1"
            ]
          },
          "metadata": {},
          "execution_count": 4
        }
      ]
    },
    {
      "cell_type": "code",
      "source": [
        "np.max(x)"
      ],
      "metadata": {
        "colab": {
          "base_uri": "https://localhost:8080/"
        },
        "id": "GY46Z7F6vLsb",
        "outputId": "886ff8c6-e3fb-4352-cdf5-87e3607ae1f2"
      },
      "execution_count": 5,
      "outputs": [
        {
          "output_type": "execute_result",
          "data": {
            "text/plain": [
              "17"
            ]
          },
          "metadata": {},
          "execution_count": 5
        }
      ]
    },
    {
      "cell_type": "code",
      "source": [
        "np.median(x)"
      ],
      "metadata": {
        "colab": {
          "base_uri": "https://localhost:8080/"
        },
        "id": "80itTJGkvNFA",
        "outputId": "4190bda0-c015-4270-9ec5-b7cffd7caf34"
      },
      "execution_count": 6,
      "outputs": [
        {
          "output_type": "execute_result",
          "data": {
            "text/plain": [
              "9.0"
            ]
          },
          "metadata": {},
          "execution_count": 6
        }
      ]
    },
    {
      "cell_type": "code",
      "source": [
        "np.mean(x)"
      ],
      "metadata": {
        "colab": {
          "base_uri": "https://localhost:8080/"
        },
        "id": "-cpQN2L6vOi9",
        "outputId": "e1ff7561-f68e-43ac-f593-f31290bfeea3"
      },
      "execution_count": 7,
      "outputs": [
        {
          "output_type": "execute_result",
          "data": {
            "text/plain": [
              "9.2"
            ]
          },
          "metadata": {},
          "execution_count": 7
        }
      ]
    },
    {
      "cell_type": "code",
      "source": [
        "x = [1,2,15,3,6,17,8,16,8,3,10,12,16,12,9,40,15,33,-20,-4,-10]\n",
        "fig = plt.figure(figsize =(10, 7))\n",
        " \n",
        "# Creating plot\n",
        "plt.boxplot(x)\n",
        " \n",
        "# show plot\n",
        "plt.show()"
      ],
      "metadata": {
        "colab": {
          "base_uri": "https://localhost:8080/",
          "height": 428
        },
        "id": "02r7GR9KvP_3",
        "outputId": "68131036-6914-4128-f8aa-aee6927df0a4"
      },
      "execution_count": 12,
      "outputs": [
        {
          "output_type": "display_data",
          "data": {
            "text/plain": [
              "<Figure size 720x504 with 1 Axes>"
            ],
            "image/png": "[encoded data removed]"
          },
          "metadata": {
            "needs_background": "light"
          }
        }
      ]
    },
    {
      "cell_type": "code",
      "source": [
        "# Simple Scatterplot\n",
        "x = range(50)\n",
        "y = range(50) + np.random.randint(0,30,50)\n",
        "plt.scatter(x, y)\n",
        "plt.title('Simple Scatter plot')\n",
        "plt.xlabel('X - value')\n",
        "plt.ylabel('Y - value')\n",
        "plt.show()"
      ],
      "metadata": {
        "colab": {
          "base_uri": "https://localhost:8080/",
          "height": 295
        },
        "id": "MMYyMC-7620U",
        "outputId": "9827c7ae-3481-4a86-bdbb-53bcd822bfe7"
      },
      "execution_count": 30,
      "outputs": [
        {
          "output_type": "display_data",
          "data": {
            "text/plain": [
              "<Figure size 432x288 with 1 Axes>"
            ],
            "image/png": "[encoded data removed]"
          },
          "metadata": {
            "needs_background": "light"
          }
        }
      ]
    },
    {
      "cell_type": "code",
      "source": [
        "np.cov(x,y)"
      ],
      "metadata": {
        "colab": {
          "base_uri": "https://localhost:8080/"
        },
        "id": "nMOxwlz276dI",
        "outputId": "802e6b34-a4c6-4a1c-e588-91c6eeac47da"
      },
      "execution_count": 31,
      "outputs": [
        {
          "output_type": "execute_result",
          "data": {
            "text/plain": [
              "array([[212.5       , 203.34693878],\n",
              "       [203.34693878, 257.87755102]])"
            ]
          },
          "metadata": {},
          "execution_count": 31
        }
      ]
    },
    {
      "cell_type": "code",
      "source": [
        "np.corrcoef(x,y)"
      ],
      "metadata": {
        "colab": {
          "base_uri": "https://localhost:8080/"
        },
        "id": "c_onJSWH-Bpt",
        "outputId": "a09cfeb7-3eb6-441f-c9e5-d9b01d74c795"
      },
      "execution_count": 32,
      "outputs": [
        {
          "output_type": "execute_result",
          "data": {
            "text/plain": [
              "array([[1.        , 0.86866316],\n",
              "       [0.86866316, 1.        ]])"
            ]
          },
          "metadata": {},
          "execution_count": 32
        }
      ]
    },
    {
      "cell_type": "code",
      "source": [
        "x1 = np.random.randn(100)\n",
        "y1 = np.random.randn(100)\n",
        "plt.scatter(x1,y1)\n",
        "plt.show()"
      ],
      "metadata": {
        "colab": {
          "base_uri": "https://localhost:8080/",
          "height": 265
        },
        "id": "Vjn_WVlq7zmP",
        "outputId": "4f9256d0-c626-48aa-fa8d-4dc6632f5ecf"
      },
      "execution_count": 33,
      "outputs": [
        {
          "output_type": "display_data",
          "data": {
            "text/plain": [
              "<Figure size 432x288 with 1 Axes>"
            ],
            "image/png": "[encoded data removed]"
          },
          "metadata": {
            "needs_background": "light"
          }
        }
      ]
    },
    {
      "cell_type": "code",
      "source": [
        "np.corrcoef(x1,y1)"
      ],
      "metadata": {
        "colab": {
          "base_uri": "https://localhost:8080/"
        },
        "id": "s9j_q6On-NKR",
        "outputId": "16d4e794-a400-437a-efed-6f915822f1a6"
      },
      "execution_count": 34,
      "outputs": [
        {
          "output_type": "execute_result",
          "data": {
            "text/plain": [
              "array([[ 1.        , -0.20628928],\n",
              "       [-0.20628928,  1.        ]])"
            ]
          },
          "metadata": {},
          "execution_count": 34
        }
      ]
    },
    {
      "cell_type": "code",
      "source": [
        "\n",
        "x2 = [1,2,3,4,5,6,7,8,9,10]\n",
        "y2 = [10,9,8,7,6,5,4,3,2,1]\n",
        "plt.scatter(x2, y2)\n",
        "plt.title('Simple Scatter plot')\n",
        "plt.xlabel('X - value')\n",
        "plt.ylabel('Y - value')\n",
        "plt.show()"
      ],
      "metadata": {
        "colab": {
          "base_uri": "https://localhost:8080/",
          "height": 295
        },
        "id": "r9LgMSkZ8nzd",
        "outputId": "bdf07291-bc30-44c5-b605-581c33d03c25"
      },
      "execution_count": 39,
      "outputs": [
        {
          "output_type": "display_data",
          "data": {
            "text/plain": [
              "<Figure size 432x288 with 1 Axes>"
            ],
            "image/png": "[encoded data removed]"
          },
          "metadata": {
            "needs_background": "light"
          }
        }
      ]
    },
    {
      "cell_type": "code",
      "source": [
        "np.corrcoef(x2,y2)"
      ],
      "metadata": {
        "colab": {
          "base_uri": "https://localhost:8080/"
        },
        "id": "ETBssTSe84hM",
        "outputId": "4eefa04b-0f28-4c37-c7fb-20ecb48b0056"
      },
      "execution_count": 40,
      "outputs": [
        {
          "output_type": "execute_result",
          "data": {
            "text/plain": [
              "array([[ 1., -1.],\n",
              "       [-1.,  1.]])"
            ]
          },
          "metadata": {},
          "execution_count": 40
        }
      ]
    },
    {
      "cell_type": "code",
      "source": [
        "x_simple = np.array([-2, -1, 0, 1, 2])\n",
        "y_simple = np.array([4, 1, 3, 2, 0])\n",
        "my_rho = np.corrcoef(x_simple, y_simple)\n",
        "\n",
        "print(my_rho)"
      ],
      "metadata": {
        "colab": {
          "base_uri": "https://localhost:8080/"
        },
        "id": "kKBEv6i8_sja",
        "outputId": "e5f6ed75-9e61-4dc5-c845-eae778fc03a3"
      },
      "execution_count": 41,
      "outputs": [
        {
          "output_type": "stream",
          "name": "stdout",
          "text": [
            "[[ 1.  -0.7]\n",
            " [-0.7  1. ]]\n"
          ]
        }
      ]
    },
    {
      "cell_type": "code",
      "source": [
        "plt.scatter(x_simple, y_simple)\n",
        "plt.title('Simple Scatter plot')\n",
        "plt.xlabel('X - value')\n",
        "plt.ylabel('Y - value')\n",
        "plt.show()"
      ],
      "metadata": {
        "colab": {
          "base_uri": "https://localhost:8080/",
          "height": 295
        },
        "id": "gHFxIZsa_0BI",
        "outputId": "183f4a6e-3381-4aea-e916-996df05ebea4"
      },
      "execution_count": 42,
      "outputs": [
        {
          "output_type": "display_data",
          "data": {
            "text/plain": [
              "<Figure size 432x288 with 1 Axes>"
            ],
            "image/png": "[encoded data removed]"
          },
          "metadata": {
            "needs_background": "light"
          }
        }
      ]
    },
    {
      "cell_type": "code",
      "source": [
        ""
      ],
      "metadata": {
        "id": "HdTLvNkI_45e"
      },
      "execution_count": null,
      "outputs": []
    }
  ]
}